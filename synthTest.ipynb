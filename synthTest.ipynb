{
 "cells": [
  {
   "cell_type": "code",
   "execution_count": 1,
   "id": "ec72d135",
   "metadata": {},
   "outputs": [],
   "source": [
    "import numpy as np\n",
    "\n",
    "import soundfile as sf\n",
    "\n",
    "# Phone frequencies (simplified formant frequencies for demonstration)\n",
    "PHONE_FORMANTS = {\n",
    "    \"AA0\": [700, 1100], \"AE0\": [660, 1700], \"AH0\": [600, 1040], \"AO0\": [400, 750],\n",
    "    \"IY0\": [300, 2200], \"UH0\": [440, 1020], \"EH0\": [530, 1850], \"OW0\": [400, 1000],\n",
    "    \"ER0\": [500, 1500], \"AY0\": [700, 1800], \"AW0\": [700, 1200],\n",
    "    # add more phones here...\n",
    "}\n",
    "\n",
    "SAMPLE_RATE = 16000\n",
    "DURATION = 0.15  # 150ms per phone\n",
    "\n",
    "def synthesize_phone(phone):\n",
    "    \"\"\"\n",
    "    Generate a simple vowel-like sound using two sine waves for formants.\n",
    "    Consonants are generated as noise bursts or silence.\n",
    "    \"\"\"\n",
    "    t = np.linspace(0, DURATION, int(SAMPLE_RATE * DURATION), endpoint=False)\n",
    "    if phone in PHONE_FORMANTS:\n",
    "        f1, f2 = PHONE_FORMANTS[phone]\n",
    "        wave = 0.5 * np.sin(2 * np.pi * f1 * t) + 0.5 * np.sin(2 * np.pi * f2 * t)\n",
    "    elif phone in {\"B\",\"D\",\"G\",\"K\",\"P\",\"T\"}:  # plosives\n",
    "        wave = np.random.randn(len(t)) * 0.2\n",
    "    elif phone in {\"S\",\"SH\",\"F\",\"V\",\"Z\",\"ZH\"}:  # fricatives\n",
    "        wave = np.random.randn(len(t)) * 0.1\n",
    "    else:\n",
    "        wave = np.zeros_like(t)\n",
    "    # Normalize\n",
    "    wave /= np.max(np.abs(wave)) + 1e-9\n",
    "    return wave\n",
    "\n",
    "def synthesize_sequence(phones):\n",
    "    \"\"\"\n",
    "    Concatenate all phone waveforms into a single waveform.\n",
    "    \"\"\"\n",
    "    audio = np.concatenate([synthesize_phone(p) for p in phones])\n",
    "    return audio\n",
    "\n",
    "if __name__ == \"__main__\":\n",
    "    # Example phone sequence from your model\n",
    "    phone_seq = [\"HH\", \"EH0\", \"L\", \"OW0\"]  # hello\n",
    "    audio = synthesize_sequence(phone_seq)\n",
    "    \n",
    "    # Write to WAV\n",
    "    sf.write(\"synthesized.wav\", audio, SAMPLE_RATE)\n"
   ]
  }
 ],
 "metadata": {
  "kernelspec": {
   "display_name": "MA_env",
   "language": "python",
   "name": "python3"
  },
  "language_info": {
   "codemirror_mode": {
    "name": "ipython",
    "version": 3
   },
   "file_extension": ".py",
   "mimetype": "text/x-python",
   "name": "python",
   "nbconvert_exporter": "python",
   "pygments_lexer": "ipython3",
   "version": "3.11.2"
  }
 },
 "nbformat": 4,
 "nbformat_minor": 5
}
